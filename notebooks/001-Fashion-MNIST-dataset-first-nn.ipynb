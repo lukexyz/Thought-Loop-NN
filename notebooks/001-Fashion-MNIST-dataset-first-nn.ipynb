{
 "cells": [
  {
   "cell_type": "markdown",
   "metadata": {},
   "source": [
    "# First Step - Simple Model\n",
    "#### 1. Get Data from inbuilt torchvision modules"
   ]
  },
  {
   "cell_type": "code",
   "execution_count": 2,
   "metadata": {},
   "outputs": [
    {
     "name": "stdout",
     "output_type": "stream",
     "text": [
      "True\n"
     ]
    }
   ],
   "source": [
    "import numpy as np\n",
    "import pandas as pd\n",
    "import matplotlib.pyplot as plt\n",
    "\n",
    "import torch\n",
    "import torch.nn as nn\n",
    "import torch.nn.functional as F\n",
    "import torchvision\n",
    "import torchvision.transforms as transforms\n",
    "from skimage import transform\n",
    "\n",
    "from torch.autograd import Variable\n",
    "\n",
    "from torch.utils.data import Dataset, DataLoader\n",
    "# from vis_utils import *\n",
    "\n",
    "print(torch.cuda.is_available())"
   ]
  },
  {
   "cell_type": "code",
   "execution_count": 3,
   "metadata": {},
   "outputs": [],
   "source": [
    "dat = torchvision.datasets.FashionMNIST(root='dataset', download=True)"
   ]
  },
  {
   "cell_type": "code",
   "execution_count": 4,
   "metadata": {
    "scrolled": true
   },
   "outputs": [
    {
     "name": "stdout",
     "output_type": "stream",
     "text": [
      " Volume in drive C is SSD (180 GB)\n",
      " Volume Serial Number is 1CB6-8F6E\n",
      "\n",
      " Directory of C:\\python\\2018-11-11 Fashion MNIST\\dataset\\processed\n",
      "\n",
      "11/11/2018  12:58    <DIR>          .\n",
      "11/11/2018  12:58    <DIR>          ..\n",
      "11/11/2018  12:58         7,920,427 test.pt\n",
      "11/11/2018  12:58        47,520,427 training.pt\n",
      "               2 File(s)     55,440,854 bytes\n",
      "               2 Dir(s)   4,574,105,600 bytes free\n"
     ]
    }
   ],
   "source": [
    "!dir dataset\\processed"
   ]
  },
  {
   "cell_type": "code",
   "execution_count": 1,
   "metadata": {},
   "outputs": [],
   "source": [
    "# Define training parameters\n",
    "num_epochs = 5;\n",
    "batch_size = 100;\n",
    "learning_rate = 0.001;"
   ]
  },
  {
   "cell_type": "code",
   "execution_count": 6,
   "metadata": {},
   "outputs": [],
   "source": [
    "# ETL class\n",
    "class FashionMNISTDataset(Dataset):\n",
    "    '''Fashion MNIST Dataset'''\n",
    "    \n",
    "    def __init__(self, csv_file, transform=None):\n",
    "        \"\"\"\n",
    "        Args:\n",
    "        csv_file (string): Path to the csv file\n",
    "        transform (callable): Optional transform to apply to sample\n",
    "        \"\"\"\n",
    "        data = pd.read_csv(csv_file);\n",
    "        self.X = np.array(data.iloc[:, 1:]).reshape(-1, 1, 28, 28)#.astype(float);\n",
    "        self.Y = np.array(data.iloc[:, 0]);\n",
    "        del data;\n",
    "        self.transform = transform;\n",
    "        \n",
    "    def __len__(self):\n",
    "        return len(self.X);\n",
    "    \n",
    "    def __getitem__(self, idx):\n",
    "        item = self.X[idx];\n",
    "        label = self.Y[idx];\n",
    "        if self.transform:\n",
    "            item = self.transform(item);\n",
    "        return (item, label);\n",
    "    "
   ]
  },
  {
   "cell_type": "code",
   "execution_count": 9,
   "metadata": {},
   "outputs": [],
   "source": [
    "# Get data from csv\n",
    "train_dataset = FashionMNISTDataset(csv_file='data/fashion-mnist_train.csv')\n",
    "test_dataset = FashionMNISTDataset(csv_file='data/fashion-mnist_test.csv')"
   ]
  },
  {
   "cell_type": "code",
   "execution_count": 10,
   "metadata": {},
   "outputs": [],
   "source": [
    "train_loader = torch.utils.data.DataLoader(dataset=train_dataset, batch_size=batch_size, shuffle=True);\n",
    "test_loader = torch.utils.data.DataLoader(dataset=test_dataset, batch_size=batch_size, shuffle=True);"
   ]
  },
  {
   "cell_type": "code",
   "execution_count": 13,
   "metadata": {},
   "outputs": [],
   "source": [
    "# Establish label maps\n",
    "labels_map = {0 : '0. T-Shirt',\n",
    "              1 : '1. Trouser',\n",
    "              2 : '2. Pullover',\n",
    "              3 : '3. Dress',\n",
    "              4 : '4. Coat',\n",
    "              5 : '5. Sandal',\n",
    "              6 : '6. Shirt',\n",
    "              7 : '7. Sneaker',\n",
    "              8 : '8. Bag',\n",
    "              9 : '9. Ankle Boot'};\n",
    "\n",
    "fig = plt.figure(figsize=(8,8));\n",
    "columns = 4;\n",
    "rows = 5;"
   ]
  },
  {
   "cell_type": "code",
   "execution_count": 14,
   "metadata": {
    "scrolled": false
   },
   "outputs": [
    {
     "data": {
      "text/plain": [
       "<matplotlib.figure.Figure at 0x1748f5ef390>"
      ]
     },
     "metadata": {},
     "output_type": "display_data"
    },
    {
     "data": {
      "image/png": "[encoded data removed]",
      "text/plain": [
       "<matplotlib.figure.Figure at 0x1748ee8b240>"
      ]
     },
     "metadata": {},
     "output_type": "display_data"
    },
    {
     "data": {
      "image/png": "[encoded data removed]",
      "text/plain": [
       "<matplotlib.figure.Figure at 0x1748ee71a90>"
      ]
     },
     "metadata": {},
     "output_type": "display_data"
    },
    {
     "data": {
      "image/png": "[encoded data removed]",
      "text/plain": [
       "<matplotlib.figure.Figure at 0x17485fd19b0>"
      ]
     },
     "metadata": {},
     "output_type": "display_data"
    },
    {
     "data": {
      "image/png": "[encoded data removed]",
      "text/plain": [
       "<matplotlib.figure.Figure at 0x1748f4cfcc0>"
      ]
     },
     "metadata": {},
     "output_type": "display_data"
    },
    {
     "data": {
      "image/png": "[encoded data removed]",
      "text/plain": [
       "<matplotlib.figure.Figure at 0x1748ee5a1d0>"
      ]
     },
     "metadata": {},
     "output_type": "display_data"
    }
   ],
   "source": [
    "# Random output of image classes\n",
    "\n",
    "for i in range(5):\n",
    "    fig = plt.figure(figsize=(4,2));\n",
    "    img_xy = np.random.randint(len(train_dataset))\n",
    "    img = train_dataset[img_xy][0][0,:,:]\n",
    "    label = labels_map[train_dataset[img_xy][1]]\n",
    "    plt.title(labels_map[train_dataset[img_xy][1]])\n",
    "    plt.imshow(img, cmap='gray')\n",
    "    plt.show()"
   ]
  },
  {
   "cell_type": "markdown",
   "metadata": {},
   "source": [
    "### Pytorch CNN Model"
   ]
  },
  {
   "cell_type": "code",
   "execution_count": 16,
   "metadata": {},
   "outputs": [],
   "source": [
    "class CNN(nn.Module):\n",
    "    def __init__(self):\n",
    "        super(CNN, self).__init__()\n",
    "        self.layer1 = nn.Sequential(\n",
    "            nn.Conv2d(1, 16, kernel_size=5, padding=2),\n",
    "            nn.BatchNorm2d(16),\n",
    "            nn.ReLU(),\n",
    "            nn.MaxPool2d(2))\n",
    "        self.layer2 = nn.Sequential(\n",
    "            nn.Conv2d(16, 32, kernel_size=5, padding=2),\n",
    "            nn.BatchNorm2d(32),\n",
    "            nn.ReLU(),\n",
    "            nn.MaxPool2d(2))\n",
    "        self.fc = nn.Linear(7*7*32, 10)\n",
    "        \n",
    "    def forward(self, x):\n",
    "        out = self.layer1(x)\n",
    "        out = self.layer2(out)\n",
    "        out = out.view(out.size(0), -1)\n",
    "        out = self.fc(out)\n",
    "        return out"
   ]
  },
  {
   "cell_type": "code",
   "execution_count": 17,
   "metadata": {},
   "outputs": [],
   "source": [
    "# Create instance\n",
    "cnn = CNN()\n",
    "\n",
    "# Loss function and optimizer\n",
    "criterion = nn.CrossEntropyLoss()\n",
    "optimizer = torch.optim.Adam(cnn.parameters(), lr=learning_rate)"
   ]
  },
  {
   "cell_type": "code",
   "execution_count": 18,
   "metadata": {},
   "outputs": [
    {
     "name": "stderr",
     "output_type": "stream",
     "text": [
      "C:\\Users\\Luke\\Anaconda3\\lib\\site-packages\\ipykernel\\__main__.py:14: UserWarning: invalid index of a 0-dim tensor. This will be an error in PyTorch 0.5. Use tensor.item() to convert a 0-dim tensor to a Python number\n",
      "C:\\Users\\Luke\\Anaconda3\\lib\\site-packages\\ipykernel\\__main__.py:18: UserWarning: invalid index of a 0-dim tensor. This will be an error in PyTorch 0.5. Use tensor.item() to convert a 0-dim tensor to a Python number\n"
     ]
    },
    {
     "name": "stdout",
     "output_type": "stream",
     "text": [
      "Epoch : 1/5, Iter : 100/600, Loss: 0.4438\n",
      "Epoch : 1/5, Iter : 200/600, Loss: 0.3529\n",
      "Epoch : 1/5, Iter : 300/600, Loss: 0.4963\n",
      "Epoch : 1/5, Iter : 400/600, Loss: 0.3653\n",
      "Epoch : 1/5, Iter : 500/600, Loss: 0.4817\n",
      "Epoch : 1/5, Iter : 600/600, Loss: 0.2152\n",
      "Epoch : 2/5, Iter : 100/600, Loss: 0.2383\n",
      "Epoch : 2/5, Iter : 200/600, Loss: 0.2783\n",
      "Epoch : 2/5, Iter : 300/600, Loss: 0.1361\n",
      "Epoch : 2/5, Iter : 400/600, Loss: 0.2788\n",
      "Epoch : 2/5, Iter : 500/600, Loss: 0.3947\n",
      "Epoch : 2/5, Iter : 600/600, Loss: 0.1990\n",
      "Epoch : 3/5, Iter : 100/600, Loss: 0.2905\n",
      "Epoch : 3/5, Iter : 200/600, Loss: 0.2826\n",
      "Epoch : 3/5, Iter : 300/600, Loss: 0.1969\n",
      "Epoch : 3/5, Iter : 400/600, Loss: 0.2790\n",
      "Epoch : 3/5, Iter : 500/600, Loss: 0.3554\n",
      "Epoch : 3/5, Iter : 600/600, Loss: 0.2060\n",
      "Epoch : 4/5, Iter : 100/600, Loss: 0.2770\n",
      "Epoch : 4/5, Iter : 200/600, Loss: 0.1427\n",
      "Epoch : 4/5, Iter : 300/600, Loss: 0.2443\n",
      "Epoch : 4/5, Iter : 400/600, Loss: 0.1853\n",
      "Epoch : 4/5, Iter : 500/600, Loss: 0.2756\n",
      "Epoch : 4/5, Iter : 600/600, Loss: 0.3149\n",
      "Epoch : 5/5, Iter : 100/600, Loss: 0.2422\n",
      "Epoch : 5/5, Iter : 200/600, Loss: 0.2639\n",
      "Epoch : 5/5, Iter : 300/600, Loss: 0.2066\n",
      "Epoch : 5/5, Iter : 400/600, Loss: 0.3059\n",
      "Epoch : 5/5, Iter : 500/600, Loss: 0.2248\n",
      "Epoch : 5/5, Iter : 600/600, Loss: 0.1674\n"
     ]
    }
   ],
   "source": [
    "losses = []\n",
    "for epoch in range(num_epochs):\n",
    "    for i, (images, labels) in enumerate(train_loader):\n",
    "        images = Variable(images.float())\n",
    "        labels = Variable(labels)\n",
    "        \n",
    "        # Forward pass, backprop and optimisation\n",
    "        optimizer.zero_grad()\n",
    "        outputs = cnn(images)\n",
    "        loss = criterion(outputs, labels)\n",
    "        loss.backward()\n",
    "        optimizer.step()\n",
    "        \n",
    "        losses.append(loss.data[0])    \n",
    "        \n",
    "        if (i+1) % 100 == 0:\n",
    "            print ('Epoch : %d/%d, Iter : %d/%d, Loss: %.4f' % \n",
    "                   (epoch+1, num_epochs, i+1, len(train_dataset)//batch_size, loss.data[0]))"
   ]
  },
  {
   "cell_type": "markdown",
   "metadata": {},
   "source": [
    "#### Evaluating the model "
   ]
  },
  {
   "cell_type": "code",
   "execution_count": 19,
   "metadata": {},
   "outputs": [
    {
     "name": "stdout",
     "output_type": "stream",
     "text": [
      "Test Accuracy of the model on the 10000 test images: 90.0000 %\n"
     ]
    }
   ],
   "source": [
    "cnn.eval()\n",
    "correct = 0\n",
    "total = 0\n",
    "for images, labels in test_loader:\n",
    "    images = Variable(images.float())\n",
    "    outputs = cnn(images)\n",
    "    _, predicted = torch.max(outputs.data, 1)\n",
    "    total += labels.size(0)\n",
    "    correct += (predicted == labels).sum()\n",
    "    \n",
    "print('Test Accuracy of the model on the 10000 test images: %.4f %%' % (100 *\n",
    "correct / total))"
   ]
  },
  {
   "cell_type": "markdown",
   "metadata": {},
   "source": [
    "\"\"\"\n",
    "\n",
    "Todo: \n",
    "* look at incorrect predicitons\n",
    "* try augmenting the original data to see if it helps\n",
    "* try iteration and augmenting the test input\n",
    "* try bring a new test image with a new perspective the model hasn't seen yet.\n",
    "\n",
    "\"\"\""
   ]
  },
  {
   "cell_type": "markdown",
   "metadata": {},
   "source": [
    "### Visualising the loss"
   ]
  },
  {
   "cell_type": "code",
   "execution_count": 20,
   "metadata": {},
   "outputs": [
    {
     "data": {
      "image/png": "[encoded data removed]",
      "text/plain": [
       "<matplotlib.figure.Figure at 0x1748eed4940>"
      ]
     },
     "metadata": {},
     "output_type": "display_data"
    }
   ],
   "source": [
    "losses_in_epochs = losses[0::600]\n",
    "plt.xlabel('Epoch #');\n",
    "plt.ylabel('Loss');\n",
    "plt.plot(losses_in_epochs);\n",
    "plt.show();"
   ]
  }
 ],
 "metadata": {
  "kernelspec": {
   "display_name": "Python [conda env:Anaconda3]",
   "language": "python",
   "name": "conda-env-Anaconda3-py"
  },
  "language_info": {
   "codemirror_mode": {
    "name": "ipython",
    "version": 3
   },
   "file_extension": ".py",
   "mimetype": "text/x-python",
   "name": "python",
   "nbconvert_exporter": "python",
   "pygments_lexer": "ipython3",
   "version": "3.5.4"
  }
 },
 "nbformat": 4,
 "nbformat_minor": 2
}
